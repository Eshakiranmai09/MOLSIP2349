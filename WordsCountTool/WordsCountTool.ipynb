{
 "cells": [
  {
   "cell_type": "code",
   "execution_count": 2,
   "id": "87178776",
   "metadata": {},
   "outputs": [
    {
     "name": "stdout",
     "output_type": "stream",
     "text": [
      "No.of Char:  45\n",
      "No.of words:  8\n"
     ]
    }
   ],
   "source": [
    "x=\"Words.txt\"\n",
    "fp=open(x,'r')\n",
    "data=fp.read()\n",
    "print(\"No.of Char: \",len(data))\n",
    "print(\"No.of words: \",len(data.split()))"
   ]
  },
  {
   "cell_type": "code",
   "execution_count": null,
   "id": "aeccac2a",
   "metadata": {},
   "outputs": [],
   "source": []
  }
 ],
 "metadata": {
  "kernelspec": {
   "display_name": "Python 3 (ipykernel)",
   "language": "python",
   "name": "python3"
  },
  "language_info": {
   "codemirror_mode": {
    "name": "ipython",
    "version": 3
   },
   "file_extension": ".py",
   "mimetype": "text/x-python",
   "name": "python",
   "nbconvert_exporter": "python",
   "pygments_lexer": "ipython3",
   "version": "3.10.9"
  }
 },
 "nbformat": 4,
 "nbformat_minor": 5
}
