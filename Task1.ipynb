{
 "cells": [
  {
   "cell_type": "code",
   "execution_count": 13,
   "id": "60c87c25",
   "metadata": {},
   "outputs": [
    {
     "name": "stdout",
     "output_type": "stream",
     "text": [
      "{'Name': 'Jane Doe', 'Phone': '9876543210', 'Email': 'jane@example.com'}\n"
     ]
    }
   ],
   "source": [
    "import csv\n",
    "import os\n",
    "\n",
    "def write(contact_info):\n",
    "    file_exists = os.path.exists('contacts.csv')\n",
    "    with open('contacts.csv', 'a', newline='') as csvfile:\n",
    "        fieldnames = ['Name', 'Phone', 'Email']\n",
    "        writer = csv.DictWriter(csvfile, fieldnames=fieldnames)\n",
    "\n",
    "        if not file_exists:\n",
    "            writer.writeheader()\n",
    "\n",
    "        writer.writerow(contact_info)\n",
    "\n",
    "def read():\n",
    "    with open('contacts.csv', newline='') as csvfile:\n",
    "        reader = csv.DictReader(csvfile)\n",
    "        for row in reader:\n",
    "            print(row)\n",
    "\n",
    "def update(old_info, new_info):\n",
    "    with open('contacts.csv', 'r', newline='') as csvfile:\n",
    "        fieldnames = ['Name', 'Phone', 'Email']\n",
    "        reader = csv.DictReader(csvfile, fieldnames=fieldnames)\n",
    "        rows = list(reader)\n",
    "\n",
    "    for row in rows:\n",
    "        if row['Name'] == old_info['Name'] and row['Phone'] == old_info['Phone'] and row['Email'] == old_info['Email']:\n",
    "            row.update(new_info)\n",
    "\n",
    "    with open('contacts.csv', 'w', newline='') as csvfile:\n",
    "        writer = csv.DictWriter(csvfile, fieldnames=fieldnames)\n",
    "        writer.writeheader()\n",
    "        writer.writerows(rows)\n",
    "contact = {'Name': 'John Doe', 'Phone': '1234567890', 'Email': 'john@example.com'}\n",
    "write(contact)\n",
    "read()\n",
    "old_contact = {'Name': 'John Doe', 'Phone': '1234567890', 'Email': 'john@example.com'}\n",
    "new_contact = {'Name': 'Jane Doe', 'Phone': '9876543210', 'Email': 'jane@example.com'}\n",
    "update(old_contact, new_contact)\n",
    "read()"
   ]
  },
  {
   "cell_type": "code",
   "execution_count": null,
   "id": "31a8f379",
   "metadata": {},
   "outputs": [],
   "source": []
  }
 ],
 "metadata": {
  "kernelspec": {
   "display_name": "Python 3 (ipykernel)",
   "language": "python",
   "name": "python3"
  },
  "language_info": {
   "codemirror_mode": {
    "name": "ipython",
    "version": 3
   },
   "file_extension": ".py",
   "mimetype": "text/x-python",
   "name": "python",
   "nbconvert_exporter": "python",
   "pygments_lexer": "ipython3",
   "version": "3.10.9"
  }
 },
 "nbformat": 4,
 "nbformat_minor": 5
}
