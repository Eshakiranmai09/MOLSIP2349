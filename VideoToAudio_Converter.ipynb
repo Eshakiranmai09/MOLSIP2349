{
 "cells": [
  {
   "cell_type": "code",
   "execution_count": 5,
   "id": "84331ab1",
   "metadata": {},
   "outputs": [],
   "source": [
    "import moviepy.editor\n",
    "from tkinter.filedialog import *\n",
    "from tkinter import *\n",
    "\n",
    "gui=Tk()\n",
    "gui.geometry(\"600x350\")\n",
    "gui.title(\"Video2Audio\")\n",
    "gui.configure(background=\"light green\")\n",
    "Label(gui, text=\"VIDEO TO AUDIO CONVERTER\",bg='orange', font=('Timesnewroman 15')).pack()\n",
    "Label(gui, text=\"Choose a File \").pack()\n",
    "\n",
    "def browse():\n",
    "    global video\n",
    "    video = askopenfilename()\n",
    "    video = moviepy.editor.VideoFileClip(video)\n",
    "    plink.config(text=video)\n",
    "\n",
    "def save():\n",
    "    audio = video.audio\n",
    "    audio.write_audiofile(\"sample.mp3\")\n",
    "    Label(gui, text=\"Video Converted into Audio and Saved Successfully\",bg='pink', font=('Times new roman 15')).pack()\n",
    "    \n",
    "\n",
    "plink = Label(gui)\n",
    "plink.pack()\n",
    "#creating buttons\n",
    "Button(gui,text='Browse',command=browse).pack()\n",
    "Button(gui,text='SAVE',command=save).pack()\n",
    "\n",
    "window.mainloop()"
   ]
  }
 ],
 "metadata": {
  "kernelspec": {
   "display_name": "Python 3 (ipykernel)",
   "language": "python",
   "name": "python3"
  },
  "language_info": {
   "codemirror_mode": {
    "name": "ipython",
    "version": 3
   },
   "file_extension": ".py",
   "mimetype": "text/x-python",
   "name": "python",
   "nbconvert_exporter": "python",
   "pygments_lexer": "ipython3",
   "version": "3.10.9"
  }
 },
 "nbformat": 4,
 "nbformat_minor": 5
}
